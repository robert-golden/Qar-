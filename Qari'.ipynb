{
 "cells": [
  {
   "cell_type": "markdown",
   "id": "719183c6",
   "metadata": {},
   "source": [
    "# Qari'"
   ]
  },
  {
   "cell_type": "markdown",
   "id": "e4d6ce61",
   "metadata": {},
   "source": [
    "## What is it?\n",
    "Qar'i is a proof-of-concept, artificially-intelligent solution designed to recognize hand-written Arabic characters.\n",
    "\n",
    "## Who is the intended stakeholder? \n",
    "The intended stakeholder is a defense, security, or justice (DS&J) professional who is not able to read Arabic or one who needs to triage a large set of documents in a short amount of time; however, this proof-of-concept could be extended to any professional who cannot read Arabic or is not able to read Arabic proficiently. \n",
    "\n",
    "## Why would this solution be used?\n",
    "I propose two use cases for this project. \n",
    "\n",
    "First, this solution would be used to augment a business unit who is unable to staff sufficient numbers of Arabic linguists; in such an instance, this tool would ideally enable a team to identify documents that have suspicious or derogatory information. A team would then be able to refer these documents to trained linguists as a priority for translation.\n",
    "\n",
    "Second, a unit that has trained linguists may receive a sufficiently-high volume of handwritten documents that they are unable to translate the documents in an time-efficient manner or without undue fatigue. In this sense, it is important that have some means of prioritizing which documents to complete a full translation on versus which to delay.\n",
    "\n",
    "Regardless, the purpose of this project is to save a team seconds or minutes in a field where time is often of the essence.\n",
    "\n",
    "## How is this solution's machine-learning model generated?\n",
    "This solution utilizes convolutional neural networks as an image classification algorithm meaning that, with initially labeled training data, the algorithm allows the computer to adapt the filters by itself to achieve a result."
   ]
  },
  {
   "cell_type": "code",
   "execution_count": 1,
   "id": "a6f3d950",
   "metadata": {
    "ExecuteTime": {
     "end_time": "2023-02-03T10:05:44.089866Z",
     "start_time": "2023-02-03T10:05:39.623533Z"
    }
   },
   "outputs": [],
   "source": [
    "import os, shutil\n",
    "import tensorflow\n",
    "import keras\n",
    "# establish location for training\n",
    "# citing Peter Mortensen's StackOverflow answer at the following URL:\n",
    "# https://stackoverflow.com/questions/37400974/error-unicode-error-unicodeescape-codec-cant-decode-bytes-in-position-2-3\n",
    "#data_training_dir = r'Train Images 10080x32x32\\train'\n",
    "data_training_dir = r'Training Images'\n",
    "#establish location for validation images\n",
    "#data_validation_dir = r'Validation Images 3360x32x32\\validation'\n",
    "#establish location for testing\n",
    "data_testing_dir = r'Test Images'\n",
    "\n",
    "#only select PNG files as images\n",
    "imgs_train = [file for file in os.listdir(data_training_dir) if file.endswith(r'.png')]\n",
    "#imgs_val = [file for file in os.listdir(data_validation_dir) if file.endswith(r'.png')]\n",
    "imgs_test = [file for file in os.listdir(data_testing_dir) if file.endswith(r'.png')]"
   ]
  },
  {
   "cell_type": "code",
   "execution_count": 2,
   "id": "850d2562",
   "metadata": {
    "ExecuteTime": {
     "end_time": "2023-02-03T10:05:44.778779Z",
     "start_time": "2023-02-03T10:05:44.090789Z"
    }
   },
   "outputs": [],
   "source": [
    "#imported as basic performance visualization\n",
    "import matplotlib.pyplot as plt\n",
    "\n",
    "#importing ImageDataGenerator to \"see\" the images\n",
    "from tensorflow.keras import preprocessing"
   ]
  },
  {
   "cell_type": "markdown",
   "id": "4cc44fb7",
   "metadata": {},
   "source": [
    "### Reshaping or Standardization of Image Sizes\n",
    "Typically, it would be necessary to standardize the size of the inputs; however, the creator of the dataset kindly did this for us. Similarly, they labeled the images.\n",
    "\n",
    "Therefore, the majority of the effort in this section was making sure that we set a decent batch size so as to account for different handwriting size, character inclination, etc."
   ]
  },
  {
   "cell_type": "code",
   "execution_count": 3,
   "id": "4340280f",
   "metadata": {
    "ExecuteTime": {
     "end_time": "2023-02-03T10:05:46.544546Z",
     "start_time": "2023-02-03T10:05:44.779850Z"
    }
   },
   "outputs": [
    {
     "name": "stdout",
     "output_type": "stream",
     "text": [
      "Found 13440 files belonging to 28 classes.\n",
      "Using 10752 files for training.\n",
      "Found 13440 files belonging to 28 classes.\n",
      "Using 2688 files for validation.\n",
      "Found 3360 files belonging to 28 classes.\n"
     ]
    }
   ],
   "source": [
    "#cite Keras documentation: https://keras.io/api/preprocessing/image/\n",
    "#random seed set to improve reproducibility of model\n",
    "\n",
    "#images were manually sorted into folder in lieu of manipulation via Python scripts\n",
    "TrainData = tensorflow.keras.preprocessing.image_dataset_from_directory(\n",
    "    data_training_dir,\n",
    "    labels=\"inferred\",\n",
    "    label_mode=\"categorical\",\n",
    "    class_names=None,\n",
    "    batch_size=336,\n",
    "    shuffle=True,\n",
    "    seed=123,\n",
    "    validation_split=0.2,\n",
    "    subset='training'\n",
    ")\n",
    "\n",
    "\n",
    "ValData = tensorflow.keras.preprocessing.image_dataset_from_directory(\n",
    "    data_training_dir,\n",
    "    labels=\"inferred\",\n",
    "    label_mode=\"categorical\",\n",
    "    class_names=None,\n",
    "    batch_size=84,\n",
    "    shuffle=True,\n",
    "    seed=123,\n",
    "    validation_split=0.2,\n",
    "    subset='validation'\n",
    ")\n",
    "#including random seed for reproducibility\n",
    "TestData = tensorflow.keras.preprocessing.image_dataset_from_directory(\n",
    "    data_testing_dir,\n",
    "    labels=\"inferred\",\n",
    "    label_mode='categorical',\n",
    "    class_names=None,\n",
    "    batch_size=105,\n",
    "    shuffle=True,\n",
    "    seed=123,\n",
    ")"
   ]
  },
  {
   "cell_type": "code",
   "execution_count": 4,
   "id": "610e2924",
   "metadata": {
    "ExecuteTime": {
     "end_time": "2023-02-03T10:05:46.560102Z",
     "start_time": "2023-02-03T10:05:46.547142Z"
    }
   },
   "outputs": [
    {
     "name": "stdout",
     "output_type": "stream",
     "text": [
      "32\n",
      "32\n",
      "32\n"
     ]
    }
   ],
   "source": [
    "print(len(TrainData))\n",
    "print(len(ValData))\n",
    "print(len(TestData))"
   ]
  },
  {
   "cell_type": "markdown",
   "id": "0b85970d",
   "metadata": {},
   "source": [
    "## Model\n",
    "The model being created is a convolutional neural network that should essentially mimic an animal's acquisition of data about their surroundings by sight, or the human ability to read. A callback has been included so that the model is interrupted when validation loss begins to increase, so as to limit the amount of overfitting present in the model."
   ]
  },
  {
   "cell_type": "code",
   "execution_count": 5,
   "id": "be28fc20",
   "metadata": {
    "ExecuteTime": {
     "end_time": "2023-02-03T10:05:52.242681Z",
     "start_time": "2023-02-03T10:05:52.051978Z"
    }
   },
   "outputs": [
    {
     "name": "stderr",
     "output_type": "stream",
     "text": [
      "C:\\Users\\rogolden\\Anaconda3\\lib\\site-packages\\keras\\optimizers\\optimizer_v2\\adam.py:117: UserWarning: The `lr` argument is deprecated, use `learning_rate` instead.\n",
      "  super().__init__(name, **kwargs)\n"
     ]
    }
   ],
   "source": [
    "#import keras layers & models to generate CNN\n",
    "from keras import layers\n",
    "from keras import models\n",
    "\n",
    "#import optimizers from keras after layers\n",
    "from keras import optimizers\n",
    "\n",
    "#cite Geeks for Geeks article:\n",
    "#https://www.geeksforgeeks.org/choose-optimal-number-of-epochs-to-train-a-neural-network-in-keras/\n",
    "#import keras callbacks to implement early stopping\n",
    "from keras import callbacks\n",
    "\n",
    "earlystopping = callbacks.EarlyStopping(\n",
    "    monitor = 'val_loss',\n",
    "    mode = 'min',\n",
    "    patience = 5,\n",
    "    restore_best_weights = True\n",
    ")\n",
    "\n",
    "\n",
    "#models.sequential selected because we are inputting and outputting data\n",
    "#cite: https://towardsdatascience.com/sequence-models-and-recurrent-neural-networks-rnns-62cadeb4f1e1#:~:text=Sequence%20models%20are%20the%20machine,algorithm%20used%20in%20sequence%20models.\n",
    "model = models.Sequential()\n",
    "model.add(layers.Conv2D(32, (3,3), activation='relu', input_shape=(256, 256, 3)))\n",
    "model.add(layers.MaxPooling2D((2,2)))\n",
    "\n",
    "model.add(layers.Conv2D(64, (3,3), activation='relu'))\n",
    "model.add(layers.MaxPooling2D((2,2)))\n",
    "\n",
    "model.add(layers.Conv2D(64, (3,3), activation='relu'))\n",
    "model.add(layers.MaxPooling2D((2,2)))\n",
    "\n",
    "model.add(layers.Conv2D(128, (3,3), activation='relu'))\n",
    "model.add(layers.MaxPooling2D((2,2)))\n",
    "\n",
    "model.add(layers.Flatten())\n",
    "model.add(layers.Dense(512, activation='relu'))\n",
    "model.add(layers.Dense(28, activation='sigmoid'))\n",
    "\n",
    "\n",
    "#Cite Sanket Doshi's explanation of ADAM optimization at following URL:\n",
    "#https://towardsdatascience.com/optimizers-for-training-neural-network-59450d71caf6#:~:text=Gradient%20Descent%20is%20the%20most,linear%20regression%20and%20classification%20algorithms.\n",
    "model.compile(loss='categorical_crossentropy', \n",
    "              optimizer=optimizers.Adam(lr=1e-3),\n",
    "              metrics=['acc', keras.metrics.TruePositives(), keras.metrics.Precision(), keras.metrics.Recall()]\n",
    "             )\n"
   ]
  },
  {
   "cell_type": "markdown",
   "id": "3400d954",
   "metadata": {},
   "source": [
    "## Training the Model\n",
    "This model is trained using the Training dataset that we pulled from the directory. The model performance is then validated using the Validation dataset that was set aside using the dataset_from_directory command."
   ]
  },
  {
   "cell_type": "code",
   "execution_count": 6,
   "id": "c9431951",
   "metadata": {
    "ExecuteTime": {
     "end_time": "2023-02-03T11:31:58.390839Z",
     "start_time": "2023-02-03T10:05:56.321000Z"
    },
    "scrolled": false
   },
   "outputs": [
    {
     "name": "stdout",
     "output_type": "stream",
     "text": [
      "Epoch 1/50\n",
      "32/32 [==============================] - 523s 16s/step - loss: 7.8968 - acc: 0.1662 - true_positives: 9298.0000 - precision: 0.0417 - recall: 0.8648 - val_loss: 1.8980 - val_acc: 0.4498 - val_true_positives: 2649.0000 - val_precision: 0.0484 - val_recall: 0.9855\n",
      "Epoch 2/50\n",
      "32/32 [==============================] - 579s 18s/step - loss: 1.3010 - acc: 0.6021 - true_positives: 10678.0000 - precision: 0.0498 - recall: 0.9931 - val_loss: 1.1172 - val_acc: 0.6730 - val_true_positives: 2673.0000 - val_precision: 0.0507 - val_recall: 0.9944\n",
      "Epoch 3/50\n",
      "32/32 [==============================] - 602s 19s/step - loss: 0.6273 - acc: 0.7960 - true_positives: 10746.0000 - precision: 0.0516 - recall: 0.9994 - val_loss: 0.9450 - val_acc: 0.7232 - val_true_positives: 2677.0000 - val_precision: 0.0512 - val_recall: 0.9959\n",
      "Epoch 4/50\n",
      "32/32 [==============================] - 596s 18s/step - loss: 0.3207 - acc: 0.8573 - true_positives: 10751.0000 - precision: 0.0519 - recall: 0.9999 - val_loss: 1.0104 - val_acc: 0.7005 - val_true_positives: 2681.0000 - val_precision: 0.0528 - val_recall: 0.9974\n",
      "Epoch 5/50\n",
      "32/32 [==============================] - 631s 20s/step - loss: 0.1527 - acc: 0.7826 - true_positives: 10752.0000 - precision: 0.0525 - recall: 1.0000 - val_loss: 1.1338 - val_acc: 0.5852 - val_true_positives: 2682.0000 - val_precision: 0.0524 - val_recall: 0.9978\n",
      "Epoch 6/50\n",
      "32/32 [==============================] - 687s 21s/step - loss: 0.0894 - acc: 0.6585 - true_positives: 10752.0000 - precision: 0.0528 - recall: 1.0000 - val_loss: 1.1853 - val_acc: 0.5450 - val_true_positives: 2678.0000 - val_precision: 0.0525 - val_recall: 0.9963\n",
      "Epoch 7/50\n",
      "32/32 [==============================] - 756s 23s/step - loss: 0.0753 - acc: 0.5805 - true_positives: 10752.0000 - precision: 0.0530 - recall: 1.0000 - val_loss: 1.3359 - val_acc: 0.4818 - val_true_positives: 2680.0000 - val_precision: 0.0528 - val_recall: 0.9970\n",
      "Epoch 8/50\n",
      "32/32 [==============================] - 789s 25s/step - loss: 0.0695 - acc: 0.6234 - true_positives: 10752.0000 - precision: 0.0532 - recall: 1.0000 - val_loss: 1.3078 - val_acc: 0.4732 - val_true_positives: 2682.0000 - val_precision: 0.0526 - val_recall: 0.9978\n"
     ]
    }
   ],
   "source": [
    "#train model\n",
    "history = model.fit(\n",
    "    TrainData, \n",
    "    validation_data=(ValData), \n",
    "    epochs=50,  \n",
    "    callbacks = [earlystopping])"
   ]
  },
  {
   "cell_type": "code",
   "execution_count": 7,
   "id": "1cd20db6",
   "metadata": {
    "ExecuteTime": {
     "end_time": "2023-02-03T11:32:53.481374Z",
     "start_time": "2023-02-03T11:32:12.285729Z"
    }
   },
   "outputs": [
    {
     "name": "stdout",
     "output_type": "stream",
     "text": [
      "32/32 [==============================] - 41s 1s/step - loss: 0.8354 - acc: 0.7318 - true_positives: 3351.0000 - precision: 0.0514 - recall: 0.9973\n"
     ]
    }
   ],
   "source": [
    "test_loss, test_accuracy, test_TruePos, test_precision, test_recall = model.evaluate(TestData)"
   ]
  },
  {
   "cell_type": "markdown",
   "id": "8f212541",
   "metadata": {},
   "source": [
    "## Saving the Model\n",
    "Several models were generated during this development. Due to size constraints, they cannot be uploaded to the GitHub repository (>25 MB). Additionally, for simplicity, this solution will provide the source code for the models deemed successful.\n"
   ]
  },
  {
   "cell_type": "code",
   "execution_count": 8,
   "id": "431db32f",
   "metadata": {
    "ExecuteTime": {
     "end_time": "2023-02-03T11:33:20.805719Z",
     "start_time": "2023-02-03T11:33:20.517120Z"
    }
   },
   "outputs": [],
   "source": [
    "#model.save('Qar_model_30epochs.h5')\n",
    "model.save('Qar_model_8epochs.h5')"
   ]
  },
  {
   "cell_type": "code",
   "execution_count": 15,
   "id": "c4983fd2",
   "metadata": {
    "ExecuteTime": {
     "end_time": "2023-02-03T11:37:08.729494Z",
     "start_time": "2023-02-03T11:37:08.579247Z"
    }
   },
   "outputs": [
    {
     "data": {
      "image/png": "[encoded data removed]",
      "text/plain": [
       "<Figure size 432x288 with 1 Axes>"
      ]
     },
     "metadata": {
      "needs_background": "light"
     },
     "output_type": "display_data"
    },
    {
     "data": {
      "image/png": "[encoded data removed]",
      "text/plain": [
       "<Figure size 432x288 with 1 Axes>"
      ]
     },
     "metadata": {
      "needs_background": "light"
     },
     "output_type": "display_data"
    }
   ],
   "source": [
    "import matplotlib.pyplot as plt\n",
    "\n",
    "%matplotlib inline\n",
    "\n",
    "acc = history.history['acc']\n",
    "val_acc = history.history['val_acc']\n",
    "loss = history.history['loss']\n",
    "val_loss = history.history['val_loss']\n",
    "epochs = range(len(acc))\n",
    "plt.plot(epochs, acc, 'bo', label='Training acc')\n",
    "plt.plot(epochs, val_acc, 'b', label='Validation acc')\n",
    "plt.title('Training and validation accuracy')\n",
    "plt.legend()\n",
    "plt.figure()\n",
    "plt.plot(epochs, loss, 'bo', label='Training loss')\n",
    "plt.plot(epochs, val_loss, 'b', label='Validation loss')\n",
    "plt.title('Training and validation loss')\n",
    "plt.legend()\n",
    "plt.show()\n"
   ]
  },
  {
   "cell_type": "code",
   "execution_count": 17,
   "id": "4129f12c",
   "metadata": {
    "ExecuteTime": {
     "end_time": "2023-02-03T11:39:13.736606Z",
     "start_time": "2023-02-03T11:39:13.589154Z"
    }
   },
   "outputs": [
    {
     "data": {
      "image/png": "[encoded data removed]",
      "text/plain": [
       "<Figure size 432x288 with 1 Axes>"
      ]
     },
     "metadata": {
      "needs_background": "light"
     },
     "output_type": "display_data"
    },
    {
     "data": {
      "image/png": "[encoded data removed]",
      "text/plain": [
       "<Figure size 432x288 with 1 Axes>"
      ]
     },
     "metadata": {
      "needs_background": "light"
     },
     "output_type": "display_data"
    }
   ],
   "source": [
    "%matplotlib inline\n",
    "\n",
    "prec = history.history['precision']\n",
    "val_prec = history.history['val_precision']\n",
    "recall = history.history['recall']\n",
    "val_recall = history.history['val_recall']\n",
    "epochs = range(len(acc))\n",
    "plt.plot(epochs, prec, 'bo', label='Training precision')\n",
    "plt.plot(epochs, val_prec, 'b', label='Validation precision')\n",
    "plt.title('Training and validation precision')\n",
    "plt.legend()\n",
    "plt.figure()\n",
    "plt.plot(epochs, recall, 'bo', label='Training recall')\n",
    "plt.plot(epochs, val_recall, 'b', label='Validation recall')\n",
    "plt.title('Training and validation recall')\n",
    "plt.legend()\n",
    "plt.show()"
   ]
  },
  {
   "cell_type": "markdown",
   "id": "fe001c29",
   "metadata": {},
   "source": [
    "## Overall Evaluation\n",
    "Overall, this model has flaws that need to be rectified.\n",
    "The accuracy of the model leaves much to be desired, and would hinder the analyst more than aid them due to the inability to "
   ]
  }
 ],
 "metadata": {
  "kernelspec": {
   "display_name": "Python 3 (ipykernel)",
   "language": "python",
   "name": "python3"
  },
  "language_info": {
   "codemirror_mode": {
    "name": "ipython",
    "version": 3
   },
   "file_extension": ".py",
   "mimetype": "text/x-python",
   "name": "python",
   "nbconvert_exporter": "python",
   "pygments_lexer": "ipython3",
   "version": "3.9.12"
  },
  "toc": {
   "base_numbering": 1,
   "nav_menu": {},
   "number_sections": true,
   "sideBar": true,
   "skip_h1_title": false,
   "title_cell": "Table of Contents",
   "title_sidebar": "Contents",
   "toc_cell": false,
   "toc_position": {},
   "toc_section_display": true,
   "toc_window_display": false
  },
  "varInspector": {
   "cols": {
    "lenName": 16,
    "lenType": 16,
    "lenVar": 40
   },
   "kernels_config": {
    "python": {
     "delete_cmd_postfix": "",
     "delete_cmd_prefix": "del ",
     "library": "var_list.py",
     "varRefreshCmd": "print(var_dic_list())"
    },
    "r": {
     "delete_cmd_postfix": ") ",
     "delete_cmd_prefix": "rm(",
     "library": "var_list.r",
     "varRefreshCmd": "cat(var_dic_list()) "
    }
   },
   "types_to_exclude": [
    "module",
    "function",
    "builtin_function_or_method",
    "instance",
    "_Feature"
   ],
   "window_display": false
  }
 },
 "nbformat": 4,
 "nbformat_minor": 5
}
